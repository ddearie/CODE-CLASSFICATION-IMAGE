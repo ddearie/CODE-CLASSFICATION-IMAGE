{
  "cells": [
    {
      "cell_type": "markdown",
      "source": [
        "#Import the required libraries"
      ],
      "metadata": {
        "id": "70fe-94R3ECL"
      }
    },
    {
      "cell_type": "code",
      "source": [
        "import torch\n",
        "import matplotlib\n",
        "import numpy as np\n",
        "import seaborn as sns\n",
        "from itertools import cycle\n",
        "import matplotlib.pyplot as plt\n",
        "from sklearn.metrics import roc_curve\n",
        "from sklearn.metrics import roc_auc_score\n",
        "from sklearn.metrics import confusion_matrix\n",
        "from sklearn.metrics import cohen_kappa_score\n",
        "from sklearn.metrics import classification_report\n",
        "from __future__ import print_function, division\n",
        "\n",
        "import os\n",
        "import time\n",
        "import copy\n",
        "import numpy as np\n",
        "import matplotlib.pyplot as plt\n",
        "plt.ion()\n",
        "import torch\n",
        "import torchvision\n",
        "import torch.nn as nn\n",
        "import torch.optim as optim\n",
        "from torch.optim import lr_scheduler\n",
        "from torchvision import datasets, models, transforms\n"
      ],
      "metadata": {
        "id": "8L143ALb2x7r"
      },
      "execution_count": null,
      "outputs": []
    },
    {
      "cell_type": "markdown",
      "source": [
        "Connected to gg colab"
      ],
      "metadata": {
        "id": "wb24Jzde3b67"
      }
    },
    {
      "cell_type": "code",
      "source": [
        "from google.colab import drive\n",
        "drive.mount('/content/drive')"
      ],
      "metadata": {
        "id": "Op2tj1lb3C4h"
      },
      "execution_count": null,
      "outputs": []
    },
    {
      "cell_type": "markdown",
      "source": [
        "#evaluation function code"
      ],
      "metadata": {
        "id": "8KpKRy7T35z8"
      }
    },
    {
      "cell_type": "code",
      "execution_count": null,
      "metadata": {
        "id": "euebw10a-7r4"
      },
      "outputs": [],
      "source": [
        "class get_metric():\n",
        "\n",
        "    def get_accuracy_graph(epochs, train_acc, val_acc):\n",
        "        plt.plot(epochs, train_acc, color='#006BA4')\n",
        "        plt.plot(epochs, val_acc, color='#FF800E')\n",
        "        plt.grid(b=True, which='major', color='lightgray')\n",
        "        plt.grid(b=True, which='minor', color='lightgray')\n",
        "        plt.xticks(np.arange(0, 45, 5))\n",
        "        plt.yticks(np.arange(0.5, 1, 0.05))\n",
        "        plt.rcParams['figure.figsize'] = (8, 6)\n",
        "        plt.rcParams['figure.dpi'] = 600\n",
        "        plt.xlabel(\"Number of Epochs\")\n",
        "        plt.ylabel(\"Accuracy\")\n",
        "        plt.title(\"Training Accuracy vs Validation Accuracy\")\n",
        "        plt.legend(['Training Acc.', 'Validation Acc.'], loc='lower right')\n",
        "        plt.show()\n",
        "\n",
        "    def get_loss_graph(epochs, train_losses, val_losses):  # draw validation and train loss graphs\n",
        "        matplotlib.rcdefaults()\n",
        "        plt.plot(epochs, train_losses, color='#006BA4')\n",
        "        plt.plot(epochs, val_losses, color='#FF800E')\n",
        "        plt.grid(b=True, which='major', color='lightgray')\n",
        "        plt.grid(b=True, which='minor', color='lightgray')\n",
        "        plt.xticks(np.arange(0, 45, 5))\n",
        "        plt.yticks(np.arange(0, 1.2, 0.2))\n",
        "        plt.rcParams['figure.dpi'] = 600\n",
        "        plt.xlabel(\"Number of Epochs\")\n",
        "        plt.ylabel(\"Loss\")\n",
        "        plt.title(\"Training Loss vs Validation Loss\")\n",
        "        plt.legend(['Training Loss', 'Validation Loss'], loc='lower right')\n",
        "        plt.show()\n",
        "\n",
        "    def test_label_predictions(model, device, test_loader):  # calculate outputs on test dataset for get metrics\n",
        "        model.eval()\n",
        "        actuals = []\n",
        "        predictions = []\n",
        "        with torch.no_grad():\n",
        "            for data, target in test_loader:\n",
        "                data, target = data.to(device), target.to(device)\n",
        "                output = model(data)\n",
        "                prediction = output.argmax(dim=1, keepdim=True)\n",
        "                actuals.extend(target.view_as(prediction))\n",
        "                predictions.extend(prediction)\n",
        "        return [i.item() for i in actuals], [i.item() for i in predictions]\n",
        "\n",
        "    def test_label_predictions_el2(model_0,model_1,model_2,model_3, device, test_loader):\n",
        "\n",
        "        actuals = []\n",
        "        predictions = []\n",
        "\n",
        "        with torch.no_grad():\n",
        "\n",
        "            for data, target in test_loader:\n",
        "                data, target = data.to(device), target.to(device)\n",
        "\n",
        "                outputs_0 = model_0(data)\n",
        "                _, predicted_0 =torch.max(outputs_0.data, 1)\n",
        "\n",
        "                outputs_1 = model_1(data)\n",
        "                _, predicted_1 =torch.max(outputs_1.data, 1)\n",
        "\n",
        "                outputs_2 = model_2(data)\n",
        "                _, predicted_2 =torch.max(outputs_2.data, 1)\n",
        "\n",
        "                outputs_3 = model_3(data)\n",
        "                _, predicted_3 =torch.max(outputs_3.data, 1)\n",
        "\n",
        "                final_pred=predicted_1\n",
        "                size=final_pred.size()\n",
        "\n",
        "                for i in range(0,(size[0])):\n",
        "                    a=0\n",
        "                    if predicted_2[i].item()==0 and predicted_3[i].item()==0:\n",
        "\n",
        "                        if predicted_1[i].item()==1:\n",
        "                            final_pred[i]=1\n",
        "\n",
        "                        if predicted_1[i].item()==0:\n",
        "                            final_pred[i]=0\n",
        "                        a+=1\n",
        "\n",
        "                    if (predicted_0[i].item()==1 and predicted_1[i].item()==1) :\n",
        "\n",
        "                        a+=1\n",
        "                        if predicted_3[i].item()==0:\n",
        "                            final_pred[i]=0\n",
        "\n",
        "                        if predicted_3[i].item()!=0:\n",
        "                            final_pred[i]=1\n",
        "                    if a==0:\n",
        "                        final_pred[i]=predicted_2[i]\n",
        "                actuals.extend(target.view_as(final_pred))\n",
        "                predictions.extend(final_pred)\n",
        "        return [i.item() for i in actuals], [i.item() for i in predictions]\n",
        "\n",
        "    def test_model(model ,device, test_loader):\n",
        "        correct = 0\n",
        "        total = 0\n",
        "        with torch.no_grad():\n",
        "            for data in test_loader:\n",
        "                images, labels = data[0].to(device), data[1].to(device)\n",
        "                outputs = model(images)\n",
        "                _, predicted = torch.max(outputs.data, 1)\n",
        "                total += labels.size(0)\n",
        "                correct += (predicted == labels).sum().item()\n",
        "        print('Correct Prediction: {:d}  Total Images: {:d}'.format(correct, total))\n",
        "        print('Test Accuracy = {:f}'.format(correct / total))\n",
        "\n",
        "    def test_model_el2(model_0,model_1,model_2,model_3,device, test_loader):\n",
        "\n",
        "        correct = 0\n",
        "        total = 0\n",
        "\n",
        "        with torch.no_grad():\n",
        "            for data in test_loader:\n",
        "\n",
        "                images, labels = data[0].to(device), data[1].to(device)\n",
        "\n",
        "                outputs_0 = model_0(images)\n",
        "                _, predicted_0 =torch.max(outputs_0.data, 1)\n",
        "\n",
        "                outputs_1 = model_1(images)\n",
        "                _, predicted_1 =torch.max(outputs_1.data, 1)\n",
        "\n",
        "                outputs_2 = model_2(images)\n",
        "                _, predicted_2 =torch.max(outputs_2.data, 1)\n",
        "\n",
        "                outputs_3 = model_3(images)\n",
        "                _, predicted_3 =torch.max(outputs_3.data, 1)\n",
        "\n",
        "                final_pred=predicted_1\n",
        "                size=final_pred.size()\n",
        "\n",
        "                for i in range(0,(size[0])):\n",
        "                    a=0\n",
        "                    if predicted_2[i].item()==0 and predicted_3[i].item()==0:\n",
        "\n",
        "                        if predicted_1[i].item()==1:\n",
        "                            final_pred[i]=1\n",
        "\n",
        "                        if predicted_1[i].item()==0:\n",
        "                            final_pred[i]=0\n",
        "                        a+=1\n",
        "\n",
        "                    if (predicted_0[i].item()==1 and predicted_1[i].item()==1):\n",
        "\n",
        "                        a+=1\n",
        "\n",
        "                        if predicted_3[i].item()==0:\n",
        "                            final_pred[i]=0\n",
        "                        if predicted_3[i].item()!=0:\n",
        "                            final_pred[i]=1\n",
        "                    if a==0:\n",
        "                        final_pred[i]=predicted_2[i]\n",
        "\n",
        "                total += labels.size(0)\n",
        "                correct += (final_pred == labels).sum().item()\n",
        "        print('Correct Prediction: {:d}  Total Images: {:d}'.format(correct, total))\n",
        "        print('Test Accuracy = {:f}'.format(correct / total))\n",
        "\n",
        "    def get_classification_report(truth, predict):  # create classification report for each class with scikit-learn library\n",
        "        print('Classification Report :\\n', classification_report(truth, predict))\n",
        "\n",
        "    def get_confusion_matrix(actuals, predictions):  # create confusion matrix for each class with scikit-learn library\n",
        "        matplotlib.rcdefaults()\n",
        "        print('Confusion matrix:\\n',confusion_matrix(actuals, predictions))\n",
        "        cf_matrix=confusion_matrix(actuals, predictions)\n",
        "        sns.heatmap(cf_matrix, annot=True,fmt='g', cmap='Blues')\n",
        "\n",
        "    def get_cohen_kappa(actuals, predictions):  # get cohen kapa score for   determine model performance\n",
        "        cps = cohen_kappa_score(actuals, predictions)\n",
        "        print('Kappa Score of this model:\\n', cps)\n",
        "\n",
        "    def test_class_probabilities(model, device, test_loader, which_class):\n",
        "\n",
        "        truths = []\n",
        "        probabilities = []\n",
        "        with torch.no_grad():\n",
        "            for data, target in test_loader:\n",
        "                data, target = data.to(device), target.to(device)\n",
        "                output = model(data).cuda().cpu()\n",
        "                prediction = output.argmax(dim=1, keepdim=True)\n",
        "                truths.extend(target.view_as(prediction) == which_class)\n",
        "                probabilities.extend(np.exp(output[:, which_class]))\n",
        "        return [i.item() for i in truths], [i.item() for i in probabilities]\n",
        "    def test_class_probabilities_el2(model_0,model_1,model_2,model_3, device, test_loader, which_class):\n",
        "\n",
        "        truths = []\n",
        "        probabilities = []\n",
        "\n",
        "        with torch.no_grad():\n",
        "            for data, target in test_loader:\n",
        "\n",
        "                data, target = data.to(device), target.to(device)\n",
        "\n",
        "                outputs_0 = model_0(data)\n",
        "                _, predicted_0 =torch.max(outputs_0.data, 1)\n",
        "\n",
        "                outputs_1 = model_1(data)\n",
        "                _, predicted_1 =torch.max(outputs_1.data, 1)\n",
        "\n",
        "                outputs_2 = model_2(data)\n",
        "                _, predicted_2 =torch.max(outputs_2.data, 1)\n",
        "\n",
        "                outputs_3 = model_3(data)\n",
        "                _, predicted_3 =torch.max(outputs_3.data, 1)\n",
        "\n",
        "                final_pred=predicted_1\n",
        "                out=outputs_1\n",
        "                size=final_pred.size()\n",
        "\n",
        "                for i in range(0,(size[0])):\n",
        "                    a=0\n",
        "                    if predicted_2[i].item()==0 and predicted_3[i].item()==0:\n",
        "\n",
        "                        if predicted_1[i].item()==1:\n",
        "                            #final_pred[i]=1\n",
        "                            out[i]=outputs_1[i]\n",
        "\n",
        "                        if predicted_1[i].item()==0:\n",
        "                            final_pred[i]=0\n",
        "                            out[i]=outputs_1[i]\n",
        "                        a+=1\n",
        "\n",
        "                    if (predicted_0[i].item()==1 and predicted_1[i].item()==1):\n",
        "\n",
        "                        a+=1\n",
        "\n",
        "                        if predicted_3[i].item()==0:\n",
        "                            #final_pred[i]=0\n",
        "                            out[i]=outputs_3[i]\n",
        "\n",
        "                        if predicted_3[i].item()!=0:\n",
        "                            #final_pred[i]=1\n",
        "                            out[i]=outputs_3[i]\n",
        "                    if a==0:\n",
        "                        #final_pred[i]=predicted_2[i]\n",
        "                        out[i]=outputs_2[i]\n",
        "                prediction = out.argmax(dim=1, keepdim=True)\n",
        "                truths.extend(target.view_as(prediction) == which_class)\n",
        "                probabilities.extend(np.exp(out.cuda().cpu()[:, which_class]))\n",
        "        return [i.item() for i in truths], [i.item() for i in probabilities]\n",
        "\n",
        "    def get_roc_curves_el2(model_0,model_1,model_2,model_3, device, data):  # draw Roc curves and calculate auc score for each class\n",
        "        fpr = dict()\n",
        "        tpr = dict()\n",
        "        roc_auc = dict()\n",
        "\n",
        "        actuals, class_probabilities = get_metric.test_class_probabilities_el2(model_0,model_1,model_2,model_3, device, data, 0)\n",
        "        fpr[0], tpr[0], _ = roc_curve(actuals, class_probabilities)\n",
        "        roc_auc[0] = roc_auc_score(actuals, class_probabilities)\n",
        "\n",
        "        actuals, class_probabilities = get_metric.test_class_probabilities_el2(model_0,model_1,model_2,model_3, device, data, 1)\n",
        "        fpr[1], tpr[1], _ = roc_curve(actuals, class_probabilities)\n",
        "        roc_auc[1] = roc_auc_score(actuals, class_probabilities)\n",
        "\n",
        "        print(\"Auc Score For Each Class: \", roc_auc)\n",
        "\n",
        "        matplotlib.rcdefaults()\n",
        "        plt.figure()\n",
        "        colors = cycle(['aqua', 'darkorange', 'cornflowerblue'])\n",
        "        for i, color in zip(range(2), colors):\n",
        "            plt.plot(fpr[i], tpr[i], color=color, lw=1,\n",
        "                     label='ROC curve of class {0} (area = {1:0.4f})'\n",
        "                           ''.format(i, roc_auc[i]))\n",
        "        plt.plot([0, 1], [0, 1], 'k--', lw=1)\n",
        "        plt.xlim([0.0, 1.0])\n",
        "        plt.ylim([0.0, 1.05])\n",
        "        plt.xlabel('False Positive Rate')\n",
        "        plt.ylabel('True Positive Rate')\n",
        "        plt.legend(loc=\"lower right\")\n",
        "        plt.show()\n",
        "\n",
        "    def get_roc_curves(model, device, data):  # draw Roc curves and calculate auc score for each class\n",
        "        fpr = dict()\n",
        "        tpr = dict()\n",
        "        roc_auc = dict()\n",
        "\n",
        "        actuals, class_probabilities = get_metric.test_class_probabilities(model, device, data, 0)\n",
        "        fpr[0], tpr[0], _ = roc_curve(actuals, class_probabilities)\n",
        "        roc_auc[0] = roc_auc_score(actuals, class_probabilities)\n",
        "\n",
        "        actuals, class_probabilities = get_metric.test_class_probabilities(model, device, data, 1)\n",
        "        fpr[1], tpr[1], _ = roc_curve(actuals, class_probabilities)\n",
        "        roc_auc[1] = roc_auc_score(actuals, class_probabilities)\n",
        "\n",
        "        print(\"Auc Score For Each Class: \", roc_auc)\n",
        "\n",
        "        matplotlib.rcdefaults()\n",
        "        plt.figure()\n",
        "        colors = cycle(['aqua', 'darkorange', 'cornflowerblue'])\n",
        "        for i, color in zip(range(2), colors):\n",
        "            plt.plot(fpr[i], tpr[i], color=color, lw=1,\n",
        "                     label='ROC curve of class {0} (area = {1:0.4f})'\n",
        "                           ''.format(i, roc_auc[i]))\n",
        "        plt.plot([0, 1], [0, 1], 'k--', lw=1)\n",
        "        plt.xlim([0.0, 1.0])\n",
        "        plt.ylim([0.0, 1.05])\n",
        "        plt.xlabel('False Positive Rate')\n",
        "        plt.ylabel('True Positive Rate')\n",
        "        plt.legend(loc=\"lower right\")\n",
        "        plt.show()"
      ]
    },
    {
      "cell_type": "markdown",
      "source": [
        "#Prepared data"
      ],
      "metadata": {
        "id": "1qvMhpkA4L9u"
      }
    },
    {
      "cell_type": "code",
      "execution_count": null,
      "metadata": {
        "id": "szNksztu-5tv"
      },
      "outputs": [],
      "source": [
        "data_dir = '/content/drive/MyDrive/data'\n",
        "train_dir = os.path.join(data_dir, 'train')\n",
        "val_dir = os.path.join(data_dir, 'val')"
      ]
    },
    {
      "cell_type": "code",
      "execution_count": null,
      "metadata": {
        "colab": {
          "base_uri": "https://localhost:8080/"
        },
        "id": "hAke8oHl-5tx",
        "outputId": "4880e7e1-8c49-48c1-c748-e3dcebe38b3a"
      },
      "outputs": [
        {
          "output_type": "stream",
          "name": "stdout",
          "text": [
            "Initializing Datasets and Dataloaders...\n",
            "\n"
          ]
        }
      ],
      "source": [
        "pretrained_size = 320\n",
        "\n",
        "pretrained_means = [0.485,0.456,0.406]\n",
        "\n",
        "pretrained_stds= [0.229,0.224,0.225]\n",
        "\n",
        "batch_size=8\n",
        "\n",
        "data_transforms = {\n",
        "\n",
        "    'train': transforms.Compose([\n",
        "        transforms.Resize((pretrained_size,pretrained_size)),\n",
        "                           transforms.RandomHorizontalFlip(),\n",
        "                           transforms.RandomRotation(10),\n",
        "                           transforms.ToTensor(),\n",
        "                           transforms.Normalize(mean = pretrained_means,\n",
        "                                                std = pretrained_stds)\n",
        "    ]),\n",
        "    'val': transforms.Compose([\n",
        "        transforms.Resize((pretrained_size,pretrained_size)),\n",
        "                           transforms.ToTensor(),\n",
        "                           transforms.Normalize(mean = pretrained_means,\n",
        "                                                std = pretrained_stds)\n",
        "    ]),\n",
        "                   }\n",
        "print(\"Initializing Datasets and Dataloaders...\\n\")\n",
        "# Create training and validation datasets\n",
        "image_datasets = {x: datasets.ImageFolder(os.path.join(data_dir, x), data_transforms[x]) for x in ['train', 'val']}\n",
        "# Create training and validation dataloaders\n",
        "dataloaders = {x: torch.utils.data.DataLoader(image_datasets[x], batch_size=batch_size, shuffle=True, num_workers=2,pin_memory=True) for x in ['train', 'val']}\n",
        "device = torch.device(\"cuda:0\")\n",
        "dataset_sizes ={x:len(image_datasets[x]) for x in ['train','val']}"
      ]
    },
    {
      "cell_type": "code",
      "execution_count": null,
      "metadata": {
        "colab": {
          "base_uri": "https://localhost:8080/"
        },
        "id": "8CVhXuXi-5t1",
        "outputId": "a33d287b-cd69-48e8-942e-f152a2dccd61"
      },
      "outputs": [
        {
          "output_type": "stream",
          "name": "stdout",
          "text": [
            ">>Class Names: ['fractured', 'non_fractured']\n",
            "\n",
            ">>Class Index: {'fractured': 0, 'non_fractured': 1}\n",
            "\n",
            ">>Number of images in training=4986\n",
            "\n",
            ">>Number of images in test=818\n",
            "\n",
            "    Number of steps for training set=624\n",
            "\n",
            "    Number of steps for test set=103\n",
            "\n"
          ]
        }
      ],
      "source": [
        "# Class names convert to index\n",
        "image_datasets['train'].class_to_idx\n",
        "class_names=image_datasets['train'].classes\n",
        "print(\">>Class Names: {}\\n\".format(image_datasets['train'].classes))\n",
        "print(\">>Class Index: {}\\n\".format(image_datasets['train'].class_to_idx))\n",
        "print(\">>Number of images in training={}\\n\".format(dataset_sizes['train']))\n",
        "print(\">>Number of images in test={}\\n\".format(dataset_sizes['val']))\n",
        "print(\"    Number of steps for training set={}\\n\".format(len(dataloaders['train'])))\n",
        "print(\"    Number of steps for test set={}\\n\".format(len(dataloaders['val'])))\n",
        "# 1:positive #0:negative"
      ]
    },
    {
      "cell_type": "markdown",
      "source": [
        "#training function code"
      ],
      "metadata": {
        "id": "SpBK7Ovf4SQE"
      }
    },
    {
      "cell_type": "code",
      "execution_count": null,
      "metadata": {
        "id": "0JHbsW8t-5t4"
      },
      "outputs": [],
      "source": [
        "train_losses = []\n",
        "train_acc = []\n",
        "val_losses = []\n",
        "val_acc = []"
      ]
    },
    {
      "cell_type": "code",
      "execution_count": null,
      "metadata": {
        "id": "utooixmf-5t6"
      },
      "outputs": [],
      "source": [
        "def train_model(model, criterion, optimizer, scheduler, num_epochs):\n",
        "    since = time.time()\n",
        "    best_model_wts = copy.deepcopy(model.state_dict())\n",
        "    best_acc = 0.0\n",
        "    ghost=True\n",
        "    for epoch in range(num_epochs):\n",
        "        print('Epoch {}/{}'.format(epoch, num_epochs - 1))\n",
        "        print('-' * 10)\n",
        "\n",
        "        # Each epoch has a training and validation phase\n",
        "        for phase in ['train', 'val']:\n",
        "            if phase == 'train':\n",
        "                model.train()  # Set model to training mode\n",
        "            else:\n",
        "                model.eval()   # Set model to evaluate mode\n",
        "\n",
        "            running_loss = 0.0\n",
        "            running_corrects = 0\n",
        "\n",
        "            # Iterate over data.\n",
        "            for inputs, labels in dataloaders[phase]:\n",
        "                inputs = inputs.to(device)\n",
        "                labels = labels.to(device)\n",
        "\n",
        "                # zero the parameter gradients\n",
        "                optimizer.zero_grad()\n",
        "\n",
        "                # forward\n",
        "                # track history if only in train\n",
        "                with torch.set_grad_enabled(phase == 'train'):\n",
        "                    outputs = model(inputs)\n",
        "                    # if isinstance(outputs, tuple):\n",
        "                    #   outputs, aux = outputs\n",
        "                    # else:\n",
        "                    #     aux = None\n",
        "                    _, preds = torch.max(outputs, 1)\n",
        "                    loss = criterion(outputs, labels)\n",
        "\n",
        "                    # backward + optimize only if in training phase\n",
        "                    if phase == 'train':\n",
        "                        loss.backward()\n",
        "                        optimizer.step()\n",
        "\n",
        "                # statistics\n",
        "                running_loss += loss.detach() * inputs.size(0) #.item()\n",
        "                running_corrects += torch.sum(preds == labels.data)\n",
        "            if phase == 'train':\n",
        "                scheduler.step()\n",
        "\n",
        "            epoch_loss = running_loss/ dataset_sizes[phase]\n",
        "            epoch_acc = running_corrects.double() / dataset_sizes[phase]\n",
        "\n",
        "            #Losses and accuracy per epochs are stored in array for plot graphs\n",
        "            if phase == 'train':\n",
        "                train_losses.append(epoch_loss)\n",
        "                train_acc.append(epoch_acc)\n",
        "                print('{} Loss: {:.4f} Acc: {:.4f}'.format(\n",
        "                phase, epoch_loss, epoch_acc))\n",
        "            if phase == 'val':\n",
        "                print('{} Loss: {:.4f} Acc: {:.4f}'.format(\n",
        "                phase, epoch_loss, epoch_acc))\n",
        "                val_losses.append(epoch_loss)\n",
        "                val_acc.append(epoch_acc)\n",
        "            torch.cuda.empty_cache()\n",
        "\n",
        "            # deep copy the model\n",
        "            if phase == 'val' and epoch_acc > best_acc:\n",
        "                best_acc = epoch_acc\n",
        "                best_model_wts = copy.deepcopy(model.state_dict())\n",
        "\n",
        "        print()\n",
        "        torch.cuda.empty_cache()\n",
        "    # Determine total traning time\n",
        "    time_elapsed = time.time() - since\n",
        "    print('Training complete in {:.0f}m {:.0f}s'.format(\n",
        "        time_elapsed // 60, time_elapsed % 60))\n",
        "    # Print best validation accuracy\n",
        "    print('Best val Acc: {:4f}'.format(best_acc))\n",
        "    # load best model weights\n",
        "    model.load_state_dict(best_model_wts)\n",
        "    torch.save(best_model_wts, \"./model.pth\")\n",
        "    return model"
      ]
    },
    {
      "cell_type": "markdown",
      "source": [
        "#Models"
      ],
      "metadata": {
        "id": "kftwJmBD2oq4"
      }
    },
    {
      "cell_type": "markdown",
      "source": [
        "##AlexNet"
      ],
      "metadata": {
        "id": "D0jdxxnu47_R"
      }
    },
    {
      "cell_type": "code",
      "source": [
        "model_ft=models.alexnet(pretrained=True)\n",
        "model_ft = model_ft.to(device)\n",
        "\n",
        "criterion = nn.CrossEntropyLoss()\n",
        "optimizer = optim.Adam(model_ft.parameters(), betas=(0.9,0.999), lr=0.0001)\n",
        "exp_lr_scheduler = lr_scheduler.StepLR(optimizer, step_size=10, gamma=0.1)\n",
        "\n",
        "model_ft = train_model(model_ft, criterion, optimizer, exp_lr_scheduler,20)"
      ],
      "metadata": {
        "id": "SulBvkAa4gHX"
      },
      "execution_count": null,
      "outputs": []
    },
    {
      "cell_type": "markdown",
      "source": [
        "##VGG16, VGG19"
      ],
      "metadata": {
        "id": "YRtVjILn5wgJ"
      }
    },
    {
      "cell_type": "code",
      "source": [
        "model_ft =models.vgg19(pretrained=True)#models.vgg16,models.vgg19\n",
        "num_ftrs = model_ft.classifier[6].in_features\n",
        "model_ft.classifier[6] = nn.Sequential(nn.Linear(num_ftrs, 2))\n",
        "model_ft = model_ft.to(device)\n",
        "\n",
        "criterion = nn.CrossEntropyLoss()\n",
        "optimizer = optim.Adam(model_ft.parameters(), betas=(0.9,0.999), lr=0.0001)\n",
        "exp_lr_scheduler = lr_scheduler.StepLR(optimizer, step_size=10, gamma=0.1)\n",
        "\n",
        "model_ft = train_model(model_ft, criterion, optimizer, exp_lr_scheduler,20)"
      ],
      "metadata": {
        "id": "NSo4-A924_zQ"
      },
      "execution_count": null,
      "outputs": []
    },
    {
      "cell_type": "markdown",
      "source": [
        "##resnet18, resnet34, resnet50, resnet101, resnet152"
      ],
      "metadata": {
        "id": "dzl_tAqr6k0Y"
      }
    },
    {
      "cell_type": "code",
      "source": [
        "model_ft=models.resnet152(pretrained=True) #models.resnet18 models.resnet34,models.resnet50,models.resnet101,models.resnet152,\n",
        "num_ftrs = model_ft.fc.in_features\n",
        "model_ft.fc =nn.Sequential(nn.Linear(num_ftrs, 2),\n",
        "nn.Sigmoid())\n",
        "\n",
        "model_ft = model_ft.to(device)\n",
        "\n",
        "criterion = nn.CrossEntropyLoss()\n",
        "optimizer = optim.Adam(model_ft.parameters(), betas=(0.9,0.999), lr=0.0001)\n",
        "exp_lr_scheduler = lr_scheduler.StepLR(optimizer, step_size=10, gamma=0.1)\n",
        "\n",
        "model_ft = train_model(model_ft, criterion, optimizer, exp_lr_scheduler,20)"
      ],
      "metadata": {
        "id": "rTUopIpg50ZR"
      },
      "execution_count": null,
      "outputs": []
    },
    {
      "cell_type": "markdown",
      "source": [
        "##efficientnet-b0, efficientnet-b1, efficientnet-b7, efficientnet-V2"
      ],
      "metadata": {
        "id": "rmPQPYlL7W8W"
      }
    },
    {
      "cell_type": "code",
      "source": [
        "!pip install efficientnet_pytorch\n"
      ],
      "metadata": {
        "id": "_fnzRQNT6v2z"
      },
      "execution_count": null,
      "outputs": []
    },
    {
      "cell_type": "code",
      "source": [
        "import torch.nn as nn\n",
        "from efficientnet_pytorch import EfficientNet"
      ],
      "metadata": {
        "id": "hBEAd7Dp7my9"
      },
      "execution_count": null,
      "outputs": []
    },
    {
      "cell_type": "code",
      "source": [
        "efficientnet_model = EfficientNet.from_pretrained('efficientnet-b0')\n",
        "num_ftrs = efficientnet_model._fc.in_features\n",
        "efficientnet_model._fc = nn.Sequential(\n",
        "    nn.Linear(num_ftrs, 2),\n",
        "    nn.Sigmoid()\n",
        ")\n",
        "model_ft = efficientnet_model\n",
        "model_ft = model_ft.to(device)\n",
        "\n",
        "criterion = nn.CrossEntropyLoss()\n",
        "optimizer = optim.Adam(model_ft.parameters(), betas=(0.9,0.999), lr=0.0001)\n",
        "exp_lr_scheduler = lr_scheduler.StepLR(optimizer, step_size=10, gamma=0.1)\n",
        "\n",
        "model_ft = train_model(model_ft, criterion, optimizer, exp_lr_scheduler,20)"
      ],
      "metadata": {
        "id": "kAPSrYzH7qdI"
      },
      "execution_count": null,
      "outputs": []
    },
    {
      "cell_type": "markdown",
      "source": [
        "##Dense169, Dense201"
      ],
      "metadata": {
        "id": "iH_pPJhi9mG9"
      }
    },
    {
      "cell_type": "code",
      "source": [
        "model_ft =models.densenet169(pretrained=True)#models.densenet169,models.densenet201\n",
        "num_ftrs = model_ft.classifier.in_features\n",
        "model_ft.classifier = nn.Sequential(nn.Linear(num_ftrs, 2),\n",
        "nn.Sigmoid())\n",
        "\n",
        "model_ft = model_ft.to(device)\n",
        "\n",
        "criterion = nn.CrossEntropyLoss()\n",
        "optimizer = optim.Adam(model_ft.parameters(), betas=(0.9,0.999), lr=0.0001)\n",
        "exp_lr_scheduler = lr_scheduler.StepLR(optimizer, step_size=10, gamma=0.1)\n",
        "\n",
        "model_ft = train_model(model_ft, criterion, optimizer, exp_lr_scheduler,20)"
      ],
      "metadata": {
        "id": "0ufLmll89tQj"
      },
      "execution_count": null,
      "outputs": []
    },
    {
      "cell_type": "markdown",
      "source": [
        "##MobileNetV2, MobileNetV3"
      ],
      "metadata": {
        "id": "_yjFSQcv-Z2R"
      }
    },
    {
      "cell_type": "code",
      "source": [
        "model_ft=models.mobilenet_v3_small(pretrained=True)#models.mobilenet_v2, models.mobilenet_v3\n",
        "num_ftrs = model_ft.classifier[0].in_features\n",
        "model_ft.classifier =nn.Sequential(nn.Linear(num_ftrs, 2),\n",
        "nn.Sigmoid())\n",
        "model_ft = model_ft.to(device)\n",
        "\n",
        "criterion = nn.CrossEntropyLoss()\n",
        "optimizer = optim.Adam(model_ft.parameters(), betas=(0.9,0.999), lr=0.0001)\n",
        "exp_lr_scheduler = lr_scheduler.StepLR(optimizer, step_size=10, gamma=0.1)\n",
        "\n",
        "model_ft = train_model(model_ft, criterion, optimizer, exp_lr_scheduler,20)"
      ],
      "metadata": {
        "id": "or9dzzi4-iHa"
      },
      "execution_count": null,
      "outputs": []
    },
    {
      "cell_type": "markdown",
      "source": [
        "##RegNet_y16"
      ],
      "metadata": {
        "id": "Q7jnIybk8ETs"
      }
    },
    {
      "cell_type": "code",
      "source": [
        "model_ft = models.regnet_y_16gf(weights='IMAGENET1K_V1')\n",
        "num_ftrs = model_ft.fc.in_features\n",
        "model_ft.fc= nn.Sequential(nn.Linear(num_ftrs, 2))\n",
        "model_ft = model_ft.to(device)\n",
        "\n",
        "criterion = nn.CrossEntropyLoss()\n",
        "optimizer = optim.Adam(model_ft.parameters(), betas=(0.9,0.999), lr=0.0001)\n",
        "exp_lr_scheduler = lr_scheduler.StepLR(optimizer, step_size=10, gamma=0.1)\n",
        "\n",
        "model_ft = train_model(model_ft, criterion, optimizer, exp_lr_scheduler,20)"
      ],
      "metadata": {
        "id": "Xm1ofKcR75RN"
      },
      "execution_count": null,
      "outputs": []
    },
    {
      "cell_type": "code",
      "source": [],
      "metadata": {
        "id": "Iy8Sotih833H"
      },
      "execution_count": null,
      "outputs": []
    },
    {
      "cell_type": "markdown",
      "source": [
        "##RepVGG"
      ],
      "metadata": {
        "id": "ujdJ__tP2epH"
      }
    },
    {
      "cell_type": "code",
      "source": [
        "!git clone https://github.com/DingXiaoH/RepVGG.git\n"
      ],
      "metadata": {
        "colab": {
          "base_uri": "https://localhost:8080/"
        },
        "id": "DUrhkv5yjmmu",
        "outputId": "90d6a957-1725-49dd-b9bb-72fc67d347fd"
      },
      "execution_count": null,
      "outputs": [
        {
          "output_type": "stream",
          "name": "stdout",
          "text": [
            "Cloning into 'RepVGG'...\n",
            "remote: Enumerating objects: 581, done.\u001b[K\n",
            "remote: Counting objects: 100% (236/236), done.\u001b[K\n",
            "remote: Compressing objects: 100% (97/97), done.\u001b[K\n",
            "remote: Total 581 (delta 191), reused 174 (delta 138), pack-reused 345\u001b[K\n",
            "Receiving objects: 100% (581/581), 485.19 KiB | 12.13 MiB/s, done.\n",
            "Resolving deltas: 100% (347/347), done.\n"
          ]
        }
      ]
    },
    {
      "cell_type": "code",
      "source": [
        "import torch\n",
        "import torch.nn as nn\n",
        "from repvgg import create_RepVGG_A0"
      ],
      "metadata": {
        "id": "ivsIr81VoMhm"
      },
      "execution_count": null,
      "outputs": []
    },
    {
      "cell_type": "code",
      "source": [
        "import torch\n",
        "import torch.nn as nn\n",
        "from repvgg import create_RepVGG_A0  # Adjust the import path if necessary\n",
        "\n",
        "# Function to load the pretrained model with weights\n",
        "def load_pretrained_repvgg(model, weights_path):\n",
        "    checkpoint = torch.hub.load_state_dict_from_url(weights_path, map_location='cpu')\n",
        "    if 'state_dict' in checkpoint:\n",
        "        checkpoint = checkpoint['state_dict']\n",
        "    model.load_state_dict(checkpoint)\n",
        "    return model\n",
        "\n",
        "# Load the RepVGG model\n",
        "model_ft = create_RepVGG_A0(deploy=False)\n",
        "\n",
        "# Load the pretrained weights\n",
        "weights_url = 'https://github.com/DingXiaoH/RepVGG/releases/download/v1.0/RepVGG-A0-train.pth'\n",
        "model_ft = load_pretrained_repvgg(model_ft, weights_url)\n",
        "\n",
        "# Modify the classifier part\n",
        "num_ftrs = model_ft.head.in_features\n",
        "model_ft.head = nn.Sequential(\n",
        "    nn.Linear(num_ftrs, 2),\n",
        "    nn.Sigmoid()\n",
        ")"
      ],
      "metadata": {
        "id": "lH36AoGGoFT0"
      },
      "execution_count": null,
      "outputs": []
    },
    {
      "cell_type": "code",
      "execution_count": null,
      "metadata": {
        "id": "a8ut9Ukt-5uG"
      },
      "outputs": [],
      "source": [
        "#model_ft.load_state_dict(torch.load(\"./model.pth\"))"
      ]
    },
    {
      "cell_type": "code",
      "execution_count": null,
      "metadata": {
        "id": "EeLEqZBO-5uH"
      },
      "outputs": [],
      "source": [
        "# Model send to GPU\n",
        "model_ft = model_ft.to(device)"
      ]
    },
    {
      "cell_type": "code",
      "execution_count": null,
      "metadata": {
        "id": "moPjUO-f-5uH"
      },
      "outputs": [],
      "source": [
        "# Define loss function\n",
        "criterion = nn.CrossEntropyLoss()\n",
        "# Observe that all parameters are being optimized\n",
        "optimizer = optim.Adam(model_ft.parameters(), betas=(0.9,0.999), lr=0.0001)\n",
        "# Decay LR by a factor of 0.1 every 7 epochs\n",
        "exp_lr_scheduler = lr_scheduler.StepLR(optimizer, step_size=10, gamma=0.1)"
      ]
    },
    {
      "cell_type": "code",
      "execution_count": null,
      "metadata": {
        "colab": {
          "base_uri": "https://localhost:8080/"
        },
        "id": "ibPB3S4g-5uI",
        "outputId": "5745ffad-eb23-43ee-a3d6-75ac2e358def"
      },
      "outputs": [
        {
          "output_type": "stream",
          "name": "stdout",
          "text": [
            "Epoch 0/19\n",
            "----------\n",
            "train Loss: 0.4946 Acc: 0.8117\n",
            "val Loss: 0.4810 Acc: 0.8301\n",
            "\n",
            "Epoch 1/19\n",
            "----------\n",
            "train Loss: 0.4592 Acc: 0.8504\n",
            "val Loss: 0.4528 Acc: 0.8582\n",
            "\n",
            "Epoch 2/19\n",
            "----------\n",
            "train Loss: 0.4517 Acc: 0.8580\n",
            "val Loss: 0.4516 Acc: 0.8582\n",
            "\n",
            "Epoch 3/19\n",
            "----------\n",
            "train Loss: 0.4420 Acc: 0.8664\n",
            "val Loss: 0.4489 Acc: 0.8582\n",
            "\n",
            "Epoch 4/19\n",
            "----------\n",
            "train Loss: 0.4413 Acc: 0.8672\n",
            "val Loss: 0.4622 Acc: 0.8435\n",
            "\n",
            "Epoch 5/19\n",
            "----------\n",
            "train Loss: 0.4310 Acc: 0.8787\n",
            "val Loss: 0.4536 Acc: 0.8570\n",
            "\n",
            "Epoch 6/19\n",
            "----------\n",
            "train Loss: 0.4276 Acc: 0.8803\n",
            "val Loss: 0.4717 Acc: 0.8362\n",
            "\n",
            "Epoch 7/19\n",
            "----------\n",
            "train Loss: 0.4280 Acc: 0.8807\n",
            "val Loss: 0.4425 Acc: 0.8667\n",
            "\n",
            "Epoch 8/19\n",
            "----------\n",
            "train Loss: 0.4226 Acc: 0.8891\n",
            "val Loss: 0.4671 Acc: 0.8386\n",
            "\n",
            "Epoch 9/19\n",
            "----------\n",
            "train Loss: 0.4255 Acc: 0.8843\n",
            "val Loss: 0.4474 Acc: 0.8643\n",
            "\n",
            "Epoch 10/19\n",
            "----------\n",
            "train Loss: 0.4016 Acc: 0.9099\n",
            "val Loss: 0.4351 Acc: 0.8655\n",
            "\n",
            "Epoch 11/19\n",
            "----------\n",
            "train Loss: 0.3935 Acc: 0.9148\n",
            "val Loss: 0.4227 Acc: 0.8851\n",
            "\n",
            "Epoch 12/19\n",
            "----------\n",
            "train Loss: 0.3856 Acc: 0.9254\n",
            "val Loss: 0.4199 Acc: 0.8912\n",
            "\n",
            "Epoch 13/19\n",
            "----------\n",
            "train Loss: 0.3880 Acc: 0.9220\n",
            "val Loss: 0.4192 Acc: 0.8863\n",
            "\n",
            "Epoch 14/19\n",
            "----------\n",
            "train Loss: 0.3811 Acc: 0.9316\n",
            "val Loss: 0.4223 Acc: 0.8839\n",
            "\n",
            "Epoch 15/19\n",
            "----------\n",
            "train Loss: 0.3796 Acc: 0.9320\n",
            "val Loss: 0.4172 Acc: 0.8961\n",
            "\n",
            "Epoch 16/19\n",
            "----------\n",
            "train Loss: 0.3734 Acc: 0.9372\n",
            "val Loss: 0.4189 Acc: 0.8863\n",
            "\n",
            "Epoch 17/19\n",
            "----------\n",
            "train Loss: 0.3690 Acc: 0.9462\n",
            "val Loss: 0.4087 Acc: 0.8985\n",
            "\n",
            "Epoch 18/19\n",
            "----------\n",
            "train Loss: 0.3702 Acc: 0.9426\n",
            "val Loss: 0.4061 Acc: 0.9010\n",
            "\n",
            "Epoch 19/19\n",
            "----------\n",
            "train Loss: 0.3703 Acc: 0.9410\n",
            "val Loss: 0.4116 Acc: 0.8936\n",
            "\n",
            "Training complete in 112m 25s\n",
            "Best val Acc: 0.900978\n"
          ]
        }
      ],
      "source": [
        "model_ft = train_model(model_ft, criterion, optimizer, exp_lr_scheduler,20)"
      ]
    },
    {
      "cell_type": "markdown",
      "metadata": {
        "id": "gYv2TCMW-5uO"
      },
      "source": [
        " #  Test"
      ]
    },
    {
      "cell_type": "code",
      "execution_count": null,
      "metadata": {
        "colab": {
          "base_uri": "https://localhost:8080/"
        },
        "id": "m8GOMJ7X-5uP",
        "outputId": "57dfd62c-4720-4e31-e467-bdd459b6e497"
      },
      "outputs": [
        {
          "output_type": "stream",
          "name": "stdout",
          "text": [
            "Correct Prediction: 737  Total Images: 818\n",
            "Test Accuracy = 0.900978\n"
          ]
        }
      ],
      "source": [
        "get_metric.test_model(model_ft,device,dataloaders['val'])"
      ]
    },
    {
      "cell_type": "code",
      "execution_count": null,
      "metadata": {
        "id": "0t7Gn0PP-5uQ"
      },
      "outputs": [],
      "source": [
        "actuals, predictions = get_metric.test_label_predictions(model_ft, device, dataloaders['val'])"
      ]
    },
    {
      "cell_type": "code",
      "execution_count": null,
      "metadata": {
        "colab": {
          "base_uri": "https://localhost:8080/"
        },
        "id": "leJBWhkC-5uS",
        "outputId": "f71eb02a-c1a4-4559-a432-d097ed2125cf"
      },
      "outputs": [
        {
          "output_type": "stream",
          "name": "stdout",
          "text": [
            "Classification Report :\n",
            "               precision    recall  f1-score   support\n",
            "\n",
            "           0       0.76      0.65      0.70       144\n",
            "           1       0.93      0.96      0.94       674\n",
            "\n",
            "    accuracy                           0.90       818\n",
            "   macro avg       0.84      0.80      0.82       818\n",
            "weighted avg       0.90      0.90      0.90       818\n",
            "\n"
          ]
        }
      ],
      "source": [
        "get_metric.get_classification_report(actuals, predictions)"
      ]
    },
    {
      "cell_type": "code",
      "execution_count": null,
      "metadata": {
        "colab": {
          "base_uri": "https://localhost:8080/",
          "height": 482
        },
        "id": "Vlow-4Wn-5uS",
        "outputId": "f0ace9a7-9f9e-4e0c-dc66-e4d7337f5af8"
      },
      "outputs": [
        {
          "output_type": "stream",
          "name": "stdout",
          "text": [
            "Confusion matrix:\n",
            " [[ 93  51]\n",
            " [ 30 644]]\n"
          ]
        },
        {
          "output_type": "display_data",
          "data": {
            "text/plain": [
              "<Figure size 640x480 with 2 Axes>"
            ],
            "image/png": "[encoded data removed]"
          },
          "metadata": {}
        }
      ],
      "source": [
        "get_metric.get_confusion_matrix(actuals, predictions)"
      ]
    },
    {
      "cell_type": "code",
      "execution_count": null,
      "metadata": {
        "colab": {
          "base_uri": "https://localhost:8080/"
        },
        "id": "okpjlqhn-5uT",
        "outputId": "1dc4db56-fb36-459d-a223-f1bb02ebee02"
      },
      "outputs": [
        {
          "output_type": "stream",
          "name": "stdout",
          "text": [
            "Kappa Score of this model:\n",
            " 0.6378988097189887\n"
          ]
        }
      ],
      "source": [
        "get_metric.get_cohen_kappa(actuals, predictions)"
      ]
    },
    {
      "cell_type": "code",
      "execution_count": null,
      "metadata": {
        "id": "xKPK2kEt-5uU"
      },
      "outputs": [],
      "source": [
        "get_metric.get_roc_curves(model_ft, device,  dataloaders['val'])"
      ]
    }
  ],
  "metadata": {
    "accelerator": "GPU",
    "colab": {
      "provenance": []
    },
    "kernelspec": {
      "display_name": "Python 3",
      "name": "python3"
    },
    "language_info": {
      "codemirror_mode": {
        "name": "ipython",
        "version": 3
      },
      "file_extension": ".py",
      "mimetype": "text/x-python",
      "name": "python",
      "nbconvert_exporter": "python",
      "pygments_lexer": "ipython3",
      "version": "3.7.3"
    }
  },
  "nbformat": 4,
  "nbformat_minor": 0
}